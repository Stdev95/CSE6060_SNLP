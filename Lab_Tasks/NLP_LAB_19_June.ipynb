{
 "cells": [
  {
   "cell_type": "code",
   "execution_count": 1,
   "metadata": {
    "ExecuteTime": {
     "end_time": "2020-06-19T06:37:54.017247Z",
     "start_time": "2020-06-19T06:37:53.999258Z"
    }
   },
   "outputs": [],
   "source": [
    "# Task 1: Get the famous Gettysburg Address in .txt format"
   ]
  },
  {
   "cell_type": "code",
   "execution_count": 2,
   "metadata": {
    "ExecuteTime": {
     "end_time": "2020-06-19T06:38:39.746988Z",
     "start_time": "2020-06-19T06:38:17.733090Z"
    }
   },
   "outputs": [],
   "source": [
    "import nltk"
   ]
  },
  {
   "cell_type": "code",
   "execution_count": 3,
   "metadata": {
    "ExecuteTime": {
     "end_time": "2020-06-19T06:38:55.833355Z",
     "start_time": "2020-06-19T06:38:39.751968Z"
    }
   },
   "outputs": [
    {
     "name": "stdout",
     "output_type": "stream",
     "text": [
      "*** Introductory Examples for the NLTK Book ***\n",
      "Loading text1, ..., text9 and sent1, ..., sent9\n",
      "Type the name of the text or sentence to view it.\n",
      "Type: 'texts()' or 'sents()' to list the materials.\n",
      "text1: Moby Dick by Herman Melville 1851\n",
      "text2: Sense and Sensibility by Jane Austen 1811\n",
      "text3: The Book of Genesis\n",
      "text4: Inaugural Address Corpus\n",
      "text5: Chat Corpus\n",
      "text6: Monty Python and the Holy Grail\n",
      "text7: Wall Street Journal\n",
      "text8: Personals Corpus\n",
      "text9: The Man Who Was Thursday by G . K . Chesterton 1908\n"
     ]
    }
   ],
   "source": [
    "from nltk.book import *"
   ]
  },
  {
   "cell_type": "code",
   "execution_count": 5,
   "metadata": {
    "ExecuteTime": {
     "end_time": "2020-06-19T06:49:37.590681Z",
     "start_time": "2020-06-19T06:49:37.562695Z"
    }
   },
   "outputs": [],
   "source": [
    "gettysburg = \"\"\"\"Four score and seven years ago our fathers brought forth on this continent a new nation, conceived in Liberty,\n",
    " and dedicated to the proposition that all men are created equal.\n",
    "\"Now we are engaged in a great civil war, testing whether that nation or any \n",
    "nation so conceived and so dedicated, can long endure. We are met on a great battle-field of that \n",
    "war. We have come to dedicate a portion of that field, as a final resting place for those who here gave their \n",
    "lives that that nation might live. It is altogether fitting and proper that we should do this.\n",
    "\"But, in a larger sense, we can not dedicate—we can not consecrate—we can not hallow—this ground. \n",
    "The brave men, living and dead, who struggled here, have consecrated it, far above our poor power to add or detract. \n",
    "The world will little note, nor long remember what we say here, but it can never forget what they did here. \n",
    "It is for us the living, rather, to be dedicated here to the unfinished work which they who fought here have thus \n",
    "far so nobly advanced. It is rather for us to be here dedicated to the great task remaining before us—that from these honored dead we \n",
    "take increased devotion to that cause for which they gave the last full measure of devotion—that we here highly \n",
    "resolve that these dead shall not have died in vain—that this nation, under God, shall have a new birth of freedom—and that government of the people\n",
    ", by the people, for the people, shall not perish from the earth.”\"\"\""
   ]
  },
  {
   "cell_type": "code",
   "execution_count": 15,
   "metadata": {
    "ExecuteTime": {
     "end_time": "2020-06-19T06:58:56.394278Z",
     "start_time": "2020-06-19T06:58:56.379287Z"
    }
   },
   "outputs": [],
   "source": [
    "sentences  = nltk.sent_tokenize(gettysburg)\n",
    "words = nltk.word_tokenize(gettysburg)"
   ]
  },
  {
   "cell_type": "code",
   "execution_count": 9,
   "metadata": {
    "ExecuteTime": {
     "end_time": "2020-06-19T06:51:06.194928Z",
     "start_time": "2020-06-19T06:51:06.173919Z"
    }
   },
   "outputs": [
    {
     "data": {
      "text/plain": [
       "['\"Four score and seven years ago our fathers brought forth on this continent a new nation, conceived in Liberty,\\n and dedicated to the proposition that all men are created equal.',\n",
       " '\"Now we are engaged in a great civil war, testing whether that nation or any \\nnation so conceived and so dedicated, can long endure.',\n",
       " 'We are met on a great battle-field of that \\nwar.',\n",
       " 'We have come to dedicate a portion of that field, as a final resting place for those who here gave their \\nlives that that nation might live.',\n",
       " 'It is altogether fitting and proper that we should do this.',\n",
       " '\"But, in a larger sense, we can not dedicate—we can not consecrate—we can not hallow—this ground.',\n",
       " 'The brave men, living and dead, who struggled here, have consecrated it, far above our poor power to add or detract.',\n",
       " 'The world will little note, nor long remember what we say here, but it can never forget what they did here.',\n",
       " 'It is for us the living, rather, to be dedicated here to the unfinished work which they who fought here have thus \\nfar so nobly advanced.',\n",
       " 'It is rather for us to be here dedicated to the great task remaining before us—that from these honored dead we \\ntake increased devotion to that cause for which they gave the last full measure of devotion—that we here highly \\nresolve that these dead shall not have died in vain—that this nation, under God, shall have a new birth of freedom—and that government of the people\\n, by the people, for the people, shall not perish from the earth.”']"
      ]
     },
     "execution_count": 9,
     "metadata": {},
     "output_type": "execute_result"
    }
   ],
   "source": [
    "sentences"
   ]
  },
  {
   "cell_type": "code",
   "execution_count": 16,
   "metadata": {
    "ExecuteTime": {
     "end_time": "2020-06-19T06:59:04.773162Z",
     "start_time": "2020-06-19T06:59:04.730183Z"
    }
   },
   "outputs": [
    {
     "data": {
      "text/plain": [
       "['``',\n",
       " 'Four',\n",
       " 'score',\n",
       " 'and',\n",
       " 'seven',\n",
       " 'years',\n",
       " 'ago',\n",
       " 'our',\n",
       " 'fathers',\n",
       " 'brought',\n",
       " 'forth',\n",
       " 'on',\n",
       " 'this',\n",
       " 'continent',\n",
       " 'a',\n",
       " 'new',\n",
       " 'nation',\n",
       " ',',\n",
       " 'conceived',\n",
       " 'in',\n",
       " 'Liberty',\n",
       " ',',\n",
       " 'and',\n",
       " 'dedicated',\n",
       " 'to',\n",
       " 'the',\n",
       " 'proposition',\n",
       " 'that',\n",
       " 'all',\n",
       " 'men',\n",
       " 'are',\n",
       " 'created',\n",
       " 'equal',\n",
       " '.',\n",
       " '``',\n",
       " 'Now',\n",
       " 'we',\n",
       " 'are',\n",
       " 'engaged',\n",
       " 'in',\n",
       " 'a',\n",
       " 'great',\n",
       " 'civil',\n",
       " 'war',\n",
       " ',',\n",
       " 'testing',\n",
       " 'whether',\n",
       " 'that',\n",
       " 'nation',\n",
       " 'or',\n",
       " 'any',\n",
       " 'nation',\n",
       " 'so',\n",
       " 'conceived',\n",
       " 'and',\n",
       " 'so',\n",
       " 'dedicated',\n",
       " ',',\n",
       " 'can',\n",
       " 'long',\n",
       " 'endure',\n",
       " '.',\n",
       " 'We',\n",
       " 'are',\n",
       " 'met',\n",
       " 'on',\n",
       " 'a',\n",
       " 'great',\n",
       " 'battle-field',\n",
       " 'of',\n",
       " 'that',\n",
       " 'war',\n",
       " '.',\n",
       " 'We',\n",
       " 'have',\n",
       " 'come',\n",
       " 'to',\n",
       " 'dedicate',\n",
       " 'a',\n",
       " 'portion',\n",
       " 'of',\n",
       " 'that',\n",
       " 'field',\n",
       " ',',\n",
       " 'as',\n",
       " 'a',\n",
       " 'final',\n",
       " 'resting',\n",
       " 'place',\n",
       " 'for',\n",
       " 'those',\n",
       " 'who',\n",
       " 'here',\n",
       " 'gave',\n",
       " 'their',\n",
       " 'lives',\n",
       " 'that',\n",
       " 'that',\n",
       " 'nation',\n",
       " 'might',\n",
       " 'live',\n",
       " '.',\n",
       " 'It',\n",
       " 'is',\n",
       " 'altogether',\n",
       " 'fitting',\n",
       " 'and',\n",
       " 'proper',\n",
       " 'that',\n",
       " 'we',\n",
       " 'should',\n",
       " 'do',\n",
       " 'this',\n",
       " '.',\n",
       " '``',\n",
       " 'But',\n",
       " ',',\n",
       " 'in',\n",
       " 'a',\n",
       " 'larger',\n",
       " 'sense',\n",
       " ',',\n",
       " 'we',\n",
       " 'can',\n",
       " 'not',\n",
       " 'dedicate—we',\n",
       " 'can',\n",
       " 'not',\n",
       " 'consecrate—we',\n",
       " 'can',\n",
       " 'not',\n",
       " 'hallow—this',\n",
       " 'ground',\n",
       " '.',\n",
       " 'The',\n",
       " 'brave',\n",
       " 'men',\n",
       " ',',\n",
       " 'living',\n",
       " 'and',\n",
       " 'dead',\n",
       " ',',\n",
       " 'who',\n",
       " 'struggled',\n",
       " 'here',\n",
       " ',',\n",
       " 'have',\n",
       " 'consecrated',\n",
       " 'it',\n",
       " ',',\n",
       " 'far',\n",
       " 'above',\n",
       " 'our',\n",
       " 'poor',\n",
       " 'power',\n",
       " 'to',\n",
       " 'add',\n",
       " 'or',\n",
       " 'detract',\n",
       " '.',\n",
       " 'The',\n",
       " 'world',\n",
       " 'will',\n",
       " 'little',\n",
       " 'note',\n",
       " ',',\n",
       " 'nor',\n",
       " 'long',\n",
       " 'remember',\n",
       " 'what',\n",
       " 'we',\n",
       " 'say',\n",
       " 'here',\n",
       " ',',\n",
       " 'but',\n",
       " 'it',\n",
       " 'can',\n",
       " 'never',\n",
       " 'forget',\n",
       " 'what',\n",
       " 'they',\n",
       " 'did',\n",
       " 'here',\n",
       " '.',\n",
       " 'It',\n",
       " 'is',\n",
       " 'for',\n",
       " 'us',\n",
       " 'the',\n",
       " 'living',\n",
       " ',',\n",
       " 'rather',\n",
       " ',',\n",
       " 'to',\n",
       " 'be',\n",
       " 'dedicated',\n",
       " 'here',\n",
       " 'to',\n",
       " 'the',\n",
       " 'unfinished',\n",
       " 'work',\n",
       " 'which',\n",
       " 'they',\n",
       " 'who',\n",
       " 'fought',\n",
       " 'here',\n",
       " 'have',\n",
       " 'thus',\n",
       " 'far',\n",
       " 'so',\n",
       " 'nobly',\n",
       " 'advanced',\n",
       " '.',\n",
       " 'It',\n",
       " 'is',\n",
       " 'rather',\n",
       " 'for',\n",
       " 'us',\n",
       " 'to',\n",
       " 'be',\n",
       " 'here',\n",
       " 'dedicated',\n",
       " 'to',\n",
       " 'the',\n",
       " 'great',\n",
       " 'task',\n",
       " 'remaining',\n",
       " 'before',\n",
       " 'us—that',\n",
       " 'from',\n",
       " 'these',\n",
       " 'honored',\n",
       " 'dead',\n",
       " 'we',\n",
       " 'take',\n",
       " 'increased',\n",
       " 'devotion',\n",
       " 'to',\n",
       " 'that',\n",
       " 'cause',\n",
       " 'for',\n",
       " 'which',\n",
       " 'they',\n",
       " 'gave',\n",
       " 'the',\n",
       " 'last',\n",
       " 'full',\n",
       " 'measure',\n",
       " 'of',\n",
       " 'devotion—that',\n",
       " 'we',\n",
       " 'here',\n",
       " 'highly',\n",
       " 'resolve',\n",
       " 'that',\n",
       " 'these',\n",
       " 'dead',\n",
       " 'shall',\n",
       " 'not',\n",
       " 'have',\n",
       " 'died',\n",
       " 'in',\n",
       " 'vain—that',\n",
       " 'this',\n",
       " 'nation',\n",
       " ',',\n",
       " 'under',\n",
       " 'God',\n",
       " ',',\n",
       " 'shall',\n",
       " 'have',\n",
       " 'a',\n",
       " 'new',\n",
       " 'birth',\n",
       " 'of',\n",
       " 'freedom—and',\n",
       " 'that',\n",
       " 'government',\n",
       " 'of',\n",
       " 'the',\n",
       " 'people',\n",
       " ',',\n",
       " 'by',\n",
       " 'the',\n",
       " 'people',\n",
       " ',',\n",
       " 'for',\n",
       " 'the',\n",
       " 'people',\n",
       " ',',\n",
       " 'shall',\n",
       " 'not',\n",
       " 'perish',\n",
       " 'from',\n",
       " 'the',\n",
       " 'earth',\n",
       " '.',\n",
       " '”']"
      ]
     },
     "execution_count": 16,
     "metadata": {},
     "output_type": "execute_result"
    }
   ],
   "source": [
    "words"
   ]
  },
  {
   "cell_type": "code",
   "execution_count": null,
   "metadata": {},
   "outputs": [],
   "source": []
  },
  {
   "cell_type": "code",
   "execution_count": 17,
   "metadata": {
    "ExecuteTime": {
     "end_time": "2020-06-19T06:59:11.169646Z",
     "start_time": "2020-06-19T06:59:11.155654Z"
    }
   },
   "outputs": [
    {
     "data": {
      "text/plain": [
       "298"
      ]
     },
     "execution_count": 17,
     "metadata": {},
     "output_type": "execute_result"
    }
   ],
   "source": [
    "len(words)"
   ]
  },
  {
   "cell_type": "code",
   "execution_count": 18,
   "metadata": {
    "ExecuteTime": {
     "end_time": "2020-06-19T06:59:13.988649Z",
     "start_time": "2020-06-19T06:59:13.973658Z"
    }
   },
   "outputs": [],
   "source": [
    "from nltk.corpus import stopwords"
   ]
  },
  {
   "cell_type": "code",
   "execution_count": 28,
   "metadata": {
    "ExecuteTime": {
     "end_time": "2020-06-19T07:07:18.645506Z",
     "start_time": "2020-06-19T07:07:18.487599Z"
    }
   },
   "outputs": [
    {
     "data": {
      "text/plain": [
       "165"
      ]
     },
     "execution_count": 28,
     "metadata": {},
     "output_type": "execute_result"
    }
   ],
   "source": [
    "count = 0\n",
    "for i in range(len(sentences)):\n",
    "    word_token = nltk.word_tokenize(sentences[i])\n",
    "    words = [word for word in word_token if word not in stopwords.words('english')]\n",
    "    sentences[i] = ' '.join(words)\n",
    "    count += len(words)\n",
    "count"
   ]
  },
  {
   "cell_type": "code",
   "execution_count": 25,
   "metadata": {
    "ExecuteTime": {
     "end_time": "2020-06-19T07:00:28.892571Z",
     "start_time": "2020-06-19T07:00:28.881590Z"
    }
   },
   "outputs": [
    {
     "data": {
      "text/plain": [
       "['`` Four score seven years ago fathers brought forth continent new nation , conceived Liberty , dedicated proposition men created equal .',\n",
       " '`` Now engaged great civil war , testing whether nation nation conceived dedicated , long endure .',\n",
       " 'We met great battle-field war .',\n",
       " 'We come dedicate portion field , final resting place gave lives nation might live .',\n",
       " 'It altogether fitting proper .',\n",
       " '`` But , larger sense , dedicate—we consecrate—we hallow—this ground .',\n",
       " 'The brave men , living dead , struggled , consecrated , far poor power add detract .',\n",
       " 'The world little note , long remember say , never forget .',\n",
       " 'It us living , rather , dedicated unfinished work fought thus far nobly advanced .',\n",
       " 'It rather us dedicated great task remaining us—that honored dead take increased devotion cause gave last full measure devotion—that highly resolve dead shall died vain—that nation , God , shall new birth freedom—and government people , people , people , shall perish earth . ”']"
      ]
     },
     "execution_count": 25,
     "metadata": {},
     "output_type": "execute_result"
    }
   ],
   "source": [
    "sentences"
   ]
  },
  {
   "cell_type": "code",
   "execution_count": 23,
   "metadata": {
    "ExecuteTime": {
     "end_time": "2020-06-19T06:59:56.499856Z",
     "start_time": "2020-06-19T06:59:56.479846Z"
    }
   },
   "outputs": [
    {
     "data": {
      "text/plain": [
       "10"
      ]
     },
     "execution_count": 23,
     "metadata": {},
     "output_type": "execute_result"
    }
   ],
   "source": [
    "len(sentences)"
   ]
  },
  {
   "cell_type": "code",
   "execution_count": 27,
   "metadata": {
    "ExecuteTime": {
     "end_time": "2020-06-19T07:04:20.990625Z",
     "start_time": "2020-06-19T07:04:20.983627Z"
    }
   },
   "outputs": [],
   "source": [
    "from nltk.util import ngrams"
   ]
  },
  {
   "cell_type": "code",
   "execution_count": 29,
   "metadata": {
    "ExecuteTime": {
     "end_time": "2020-06-19T07:10:53.618008Z",
     "start_time": "2020-06-19T07:10:53.604016Z"
    }
   },
   "outputs": [],
   "source": [
    "for line in sentences:\n",
    "    token = nltk.word_tokenize(line)\n",
    "    bigram = list(ngrams(token, 2)) "
   ]
  },
  {
   "cell_type": "code",
   "execution_count": 30,
   "metadata": {
    "ExecuteTime": {
     "end_time": "2020-06-19T07:10:57.342835Z",
     "start_time": "2020-06-19T07:10:57.319849Z"
    }
   },
   "outputs": [
    {
     "data": {
      "text/plain": [
       "[('It', 'rather'),\n",
       " ('rather', 'us'),\n",
       " ('us', 'dedicated'),\n",
       " ('dedicated', 'great'),\n",
       " ('great', 'task'),\n",
       " ('task', 'remaining'),\n",
       " ('remaining', 'us—that'),\n",
       " ('us—that', 'honored'),\n",
       " ('honored', 'dead'),\n",
       " ('dead', 'take'),\n",
       " ('take', 'increased'),\n",
       " ('increased', 'devotion'),\n",
       " ('devotion', 'cause'),\n",
       " ('cause', 'gave'),\n",
       " ('gave', 'last'),\n",
       " ('last', 'full'),\n",
       " ('full', 'measure'),\n",
       " ('measure', 'devotion—that'),\n",
       " ('devotion—that', 'highly'),\n",
       " ('highly', 'resolve'),\n",
       " ('resolve', 'dead'),\n",
       " ('dead', 'shall'),\n",
       " ('shall', 'died'),\n",
       " ('died', 'vain—that'),\n",
       " ('vain—that', 'nation'),\n",
       " ('nation', ','),\n",
       " (',', 'God'),\n",
       " ('God', ','),\n",
       " (',', 'shall'),\n",
       " ('shall', 'new'),\n",
       " ('new', 'birth'),\n",
       " ('birth', 'freedom—and'),\n",
       " ('freedom—and', 'government'),\n",
       " ('government', 'people'),\n",
       " ('people', ','),\n",
       " (',', 'people'),\n",
       " ('people', ','),\n",
       " (',', 'people'),\n",
       " ('people', ','),\n",
       " (',', 'shall'),\n",
       " ('shall', 'perish'),\n",
       " ('perish', 'earth'),\n",
       " ('earth', '.'),\n",
       " ('.', '”')]"
      ]
     },
     "execution_count": 30,
     "metadata": {},
     "output_type": "execute_result"
    }
   ],
   "source": [
    "bigram"
   ]
  },
  {
   "cell_type": "code",
   "execution_count": 31,
   "metadata": {
    "ExecuteTime": {
     "end_time": "2020-06-19T07:13:15.725624Z",
     "start_time": "2020-06-19T07:13:15.717629Z"
    }
   },
   "outputs": [],
   "source": [
    "# Task 4: From the bigrams, the task is to extract collocations"
   ]
  },
  {
   "cell_type": "code",
   "execution_count": 32,
   "metadata": {
    "ExecuteTime": {
     "end_time": "2020-06-19T07:17:31.401298Z",
     "start_time": "2020-06-19T07:17:31.384309Z"
    }
   },
   "outputs": [
    {
     "data": {
      "text/plain": [
       "[((',', 'people'), ('people', ',')),\n",
       " (('people', ','), (',', 'people')),\n",
       " ((',', 'God'), ('God', ',')),\n",
       " (('It', 'rather'), ('rather', 'us')),\n",
       " (('birth', 'freedom—and'), ('freedom—and', 'government')),\n",
       " (('cause', 'gave'), ('gave', 'last')),\n",
       " (('dead', 'shall'), ('shall', 'died')),\n",
       " (('dead', 'take'), ('take', 'increased')),\n",
       " (('dedicated', 'great'), ('great', 'task')),\n",
       " (('devotion', 'cause'), ('cause', 'gave')),\n",
       " (('devotion—that', 'highly'), ('highly', 'resolve')),\n",
       " (('died', 'vain—that'), ('vain—that', 'nation')),\n",
       " (('earth', '.'), ('.', '”')),\n",
       " (('freedom—and', 'government'), ('government', 'people')),\n",
       " (('full', 'measure'), ('measure', 'devotion—that'))]"
      ]
     },
     "execution_count": 32,
     "metadata": {},
     "output_type": "execute_result"
    }
   ],
   "source": [
    "from nltk.collocations import BigramCollocationFinder\n",
    "from nltk.metrics import BigramAssocMeasures\n",
    "bigram_collocation = BigramCollocationFinder.from_words(bigram)\n",
    "bigram_collocation.nbest(BigramAssocMeasures.likelihood_ratio,15)"
   ]
  },
  {
   "cell_type": "code",
   "execution_count": null,
   "metadata": {},
   "outputs": [],
   "source": []
  }
 ],
 "metadata": {
  "kernelspec": {
   "display_name": "Python 3",
   "language": "python",
   "name": "python3"
  },
  "language_info": {
   "codemirror_mode": {
    "name": "ipython",
    "version": 3
   },
   "file_extension": ".py",
   "mimetype": "text/x-python",
   "name": "python",
   "nbconvert_exporter": "python",
   "pygments_lexer": "ipython3",
   "version": "3.7.3"
  },
  "toc": {
   "base_numbering": 1,
   "nav_menu": {},
   "number_sections": true,
   "sideBar": true,
   "skip_h1_title": false,
   "title_cell": "Table of Contents",
   "title_sidebar": "Contents",
   "toc_cell": false,
   "toc_position": {},
   "toc_section_display": true,
   "toc_window_display": false
  }
 },
 "nbformat": 4,
 "nbformat_minor": 4
}
