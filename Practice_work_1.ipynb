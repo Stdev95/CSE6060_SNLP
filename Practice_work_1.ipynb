{
 "cells": [
  {
   "cell_type": "markdown",
   "metadata": {
    "ExecuteTime": {
     "end_time": "2020-06-14T17:29:42.203788Z",
     "start_time": "2020-06-14T17:29:27.590638Z"
    }
   },
   "source": [
    "# Practice Work"
   ]
  },
  {
   "cell_type": "code",
   "execution_count": 3,
   "metadata": {
    "ExecuteTime": {
     "end_time": "2020-06-14T17:29:48.348580Z",
     "start_time": "2020-06-14T17:29:48.342579Z"
    }
   },
   "outputs": [],
   "source": [
    "import nltk"
   ]
  },
  {
   "cell_type": "code",
   "execution_count": null,
   "metadata": {},
   "outputs": [],
   "source": [
    "story = \"\"\" A gentleman was walking through an elephant camp, and he spotted that \n",
    "the elephants weren’t being kept in cages or held by the use of chains.\n",
    "All that was holding them back from escaping the camp, was a small piece of rope tied to one of their legs.\n",
    "As the man gazed upon the elephants, he was completely confused as to why the \n",
    "elephants didn’t just use their strength to break the rope and escape the camp. \n",
    "They could easily have done so, but instead, they didn’t try to at all.\n",
    "\n",
    "Curious and wanting to know the answer, he asked a trainer nearby why the elephants were\n",
    "just standing there and never tried to escape.\n",
    "The trainer replied;\n",
    "\n",
    "“when they are very young and much smaller we use the same size rope to tie them and, at that age, it’s enough to hold them. \n",
    "As they grow up, they are conditioned to believe they cannot break away. \n",
    "They believe the rope can still hold them, so they never try to break free.”\n",
    "\n",
    "The only reason that the elephants weren’t breaking \n",
    "free and escaping from the camp was that over time they adopted the belief that it just wasn’t possible.\"\"\""
   ]
  },
  {
   "cell_type": "code",
   "execution_count": 5,
   "metadata": {
    "ExecuteTime": {
     "end_time": "2020-06-14T17:30:52.225711Z",
     "start_time": "2020-06-14T17:30:52.204723Z"
    }
   },
   "outputs": [
    {
     "data": {
      "text/plain": [
       "[' A gentleman was walking through an elephant camp, and he spotted that \\nthe elephants weren’t being kept in cages or held by the use of chains.',\n",
       " 'All that was holding them back from escaping the camp, was a small piece of rope tied to one of their legs.',\n",
       " 'As the man gazed upon the elephants, he was completely confused as to why the \\nelephants didn’t just use their strength to break the rope and escape the camp.',\n",
       " 'They could easily have done so, but instead, they didn’t try to at all.',\n",
       " 'Curious and wanting to know the answer, he asked a trainer nearby why the elephants were\\njust standing there and never tried to escape.',\n",
       " 'The trainer replied;\\n\\n“when they are very young and much smaller we use the same size rope to tie them and, at that age, it’s enough to hold them.',\n",
       " 'As they grow up, they are conditioned to believe they cannot break away.',\n",
       " 'They believe the rope can still hold them, so they never try to break free.”\\n\\nThe only reason that the elephants weren’t breaking \\nfree and escaping from the camp was that over time they adopted the belief that it just wasn’t possible.']"
      ]
     },
     "execution_count": 5,
     "metadata": {},
     "output_type": "execute_result"
    }
   ],
   "source": [
    "# Sentence tokenizer\n",
    "sentences  = nltk.sent_tokenize(story)\n",
    "sentences"
   ]
  },
  {
   "cell_type": "code",
   "execution_count": 7,
   "metadata": {
    "ExecuteTime": {
     "end_time": "2020-06-14T17:31:29.155471Z",
     "start_time": "2020-06-14T17:31:29.139482Z"
    }
   },
   "outputs": [
    {
     "data": {
      "text/plain": [
       "['A',\n",
       " 'gentleman',\n",
       " 'was',\n",
       " 'walking',\n",
       " 'through',\n",
       " 'an',\n",
       " 'elephant',\n",
       " 'camp',\n",
       " ',',\n",
       " 'and',\n",
       " 'he',\n",
       " 'spotted',\n",
       " 'that',\n",
       " 'the',\n",
       " 'elephants',\n",
       " 'weren',\n",
       " '’',\n",
       " 't',\n",
       " 'being',\n",
       " 'kept',\n",
       " 'in',\n",
       " 'cages',\n",
       " 'or',\n",
       " 'held',\n",
       " 'by',\n",
       " 'the',\n",
       " 'use',\n",
       " 'of',\n",
       " 'chains',\n",
       " '.',\n",
       " 'All',\n",
       " 'that',\n",
       " 'was',\n",
       " 'holding',\n",
       " 'them',\n",
       " 'back',\n",
       " 'from',\n",
       " 'escaping',\n",
       " 'the',\n",
       " 'camp',\n",
       " ',',\n",
       " 'was',\n",
       " 'a',\n",
       " 'small',\n",
       " 'piece',\n",
       " 'of',\n",
       " 'rope',\n",
       " 'tied',\n",
       " 'to',\n",
       " 'one',\n",
       " 'of',\n",
       " 'their',\n",
       " 'legs',\n",
       " '.',\n",
       " 'As',\n",
       " 'the',\n",
       " 'man',\n",
       " 'gazed',\n",
       " 'upon',\n",
       " 'the',\n",
       " 'elephants',\n",
       " ',',\n",
       " 'he',\n",
       " 'was',\n",
       " 'completely',\n",
       " 'confused',\n",
       " 'as',\n",
       " 'to',\n",
       " 'why',\n",
       " 'the',\n",
       " 'elephants',\n",
       " 'didn',\n",
       " '’',\n",
       " 't',\n",
       " 'just',\n",
       " 'use',\n",
       " 'their',\n",
       " 'strength',\n",
       " 'to',\n",
       " 'break',\n",
       " 'the',\n",
       " 'rope',\n",
       " 'and',\n",
       " 'escape',\n",
       " 'the',\n",
       " 'camp',\n",
       " '.',\n",
       " 'They',\n",
       " 'could',\n",
       " 'easily',\n",
       " 'have',\n",
       " 'done',\n",
       " 'so',\n",
       " ',',\n",
       " 'but',\n",
       " 'instead',\n",
       " ',',\n",
       " 'they',\n",
       " 'didn',\n",
       " '’',\n",
       " 't',\n",
       " 'try',\n",
       " 'to',\n",
       " 'at',\n",
       " 'all',\n",
       " '.',\n",
       " 'Curious',\n",
       " 'and',\n",
       " 'wanting',\n",
       " 'to',\n",
       " 'know',\n",
       " 'the',\n",
       " 'answer',\n",
       " ',',\n",
       " 'he',\n",
       " 'asked',\n",
       " 'a',\n",
       " 'trainer',\n",
       " 'nearby',\n",
       " 'why',\n",
       " 'the',\n",
       " 'elephants',\n",
       " 'were',\n",
       " 'just',\n",
       " 'standing',\n",
       " 'there',\n",
       " 'and',\n",
       " 'never',\n",
       " 'tried',\n",
       " 'to',\n",
       " 'escape',\n",
       " '.',\n",
       " 'The',\n",
       " 'trainer',\n",
       " 'replied',\n",
       " ';',\n",
       " '“',\n",
       " 'when',\n",
       " 'they',\n",
       " 'are',\n",
       " 'very',\n",
       " 'young',\n",
       " 'and',\n",
       " 'much',\n",
       " 'smaller',\n",
       " 'we',\n",
       " 'use',\n",
       " 'the',\n",
       " 'same',\n",
       " 'size',\n",
       " 'rope',\n",
       " 'to',\n",
       " 'tie',\n",
       " 'them',\n",
       " 'and',\n",
       " ',',\n",
       " 'at',\n",
       " 'that',\n",
       " 'age',\n",
       " ',',\n",
       " 'it',\n",
       " '’',\n",
       " 's',\n",
       " 'enough',\n",
       " 'to',\n",
       " 'hold',\n",
       " 'them',\n",
       " '.',\n",
       " 'As',\n",
       " 'they',\n",
       " 'grow',\n",
       " 'up',\n",
       " ',',\n",
       " 'they',\n",
       " 'are',\n",
       " 'conditioned',\n",
       " 'to',\n",
       " 'believe',\n",
       " 'they',\n",
       " 'can',\n",
       " 'not',\n",
       " 'break',\n",
       " 'away',\n",
       " '.',\n",
       " 'They',\n",
       " 'believe',\n",
       " 'the',\n",
       " 'rope',\n",
       " 'can',\n",
       " 'still',\n",
       " 'hold',\n",
       " 'them',\n",
       " ',',\n",
       " 'so',\n",
       " 'they',\n",
       " 'never',\n",
       " 'try',\n",
       " 'to',\n",
       " 'break',\n",
       " 'free.',\n",
       " '”',\n",
       " 'The',\n",
       " 'only',\n",
       " 'reason',\n",
       " 'that',\n",
       " 'the',\n",
       " 'elephants',\n",
       " 'weren',\n",
       " '’',\n",
       " 't',\n",
       " 'breaking',\n",
       " 'free',\n",
       " 'and',\n",
       " 'escaping',\n",
       " 'from',\n",
       " 'the',\n",
       " 'camp',\n",
       " 'was',\n",
       " 'that',\n",
       " 'over',\n",
       " 'time',\n",
       " 'they',\n",
       " 'adopted',\n",
       " 'the',\n",
       " 'belief',\n",
       " 'that',\n",
       " 'it',\n",
       " 'just',\n",
       " 'wasn',\n",
       " '’',\n",
       " 't',\n",
       " 'possible',\n",
       " '.']"
      ]
     },
     "execution_count": 7,
     "metadata": {},
     "output_type": "execute_result"
    }
   ],
   "source": [
    "# words tokenizer\n",
    "words = nltk.word_tokenize(story)\n",
    "words"
   ]
  },
  {
   "cell_type": "markdown",
   "metadata": {},
   "source": [
    "## Stemming"
   ]
  },
  {
   "cell_type": "code",
   "execution_count": 8,
   "metadata": {
    "ExecuteTime": {
     "end_time": "2020-06-14T17:32:09.343192Z",
     "start_time": "2020-06-14T17:32:09.324205Z"
    }
   },
   "outputs": [],
   "source": [
    "from nltk.stem import LancasterStemmer"
   ]
  },
  {
   "cell_type": "code",
   "execution_count": 9,
   "metadata": {
    "ExecuteTime": {
     "end_time": "2020-06-14T17:32:18.224926Z",
     "start_time": "2020-06-14T17:32:18.206914Z"
    }
   },
   "outputs": [],
   "source": [
    "stemmer = LancasterStemmer()"
   ]
  },
  {
   "cell_type": "code",
   "execution_count": 10,
   "metadata": {
    "ExecuteTime": {
     "end_time": "2020-06-14T17:32:32.529749Z",
     "start_time": "2020-06-14T17:32:32.507758Z"
    }
   },
   "outputs": [],
   "source": [
    "for i in range(len(sentences)):\n",
    "    word_token = nltk.word_tokenize(sentences[i])\n",
    "    words = [stemmer.stem(word) for word in word_token]\n",
    "    sentences[i] = ' '.join(words)"
   ]
  },
  {
   "cell_type": "code",
   "execution_count": 12,
   "metadata": {
    "ExecuteTime": {
     "end_time": "2020-06-14T17:32:41.439969Z",
     "start_time": "2020-06-14T17:32:41.418978Z"
    }
   },
   "outputs": [
    {
     "data": {
      "text/plain": [
       "['a gentlem was walk through an eleph camp , and he spot that the eleph wer ’ t being kept in cag or held by the us of chain .',\n",
       " 'al that was hold them back from escap the camp , was a smal piec of rop tied to on of their leg .',\n",
       " 'as the man gaz upon the eleph , he was complet confus as to why the eleph didn ’ t just us their strength to break the rop and escap the camp .',\n",
       " 'they could easy hav don so , but instead , they didn ’ t try to at al .',\n",
       " 'cury and want to know the answ , he ask a train nearby why the eleph wer just stand ther and nev tri to escap .',\n",
       " 'the train reply ; “ when they ar very young and much smal we us the sam siz rop to tie them and , at that ag , it ’ s enough to hold them .',\n",
       " 'as they grow up , they ar condit to believ they can not break away .',\n",
       " 'they believ the rop can stil hold them , so they nev try to break free. ” the on reason that the eleph wer ’ t break fre and escap from the camp was that ov tim they adopt the believ that it just wasn ’ t poss .']"
      ]
     },
     "execution_count": 12,
     "metadata": {},
     "output_type": "execute_result"
    }
   ],
   "source": [
    "sentences"
   ]
  },
  {
   "cell_type": "markdown",
   "metadata": {
    "ExecuteTime": {
     "end_time": "2020-06-14T17:36:15.068006Z",
     "start_time": "2020-06-14T17:36:15.057013Z"
    }
   },
   "source": [
    "## Lemmetization"
   ]
  },
  {
   "cell_type": "code",
   "execution_count": 13,
   "metadata": {
    "ExecuteTime": {
     "end_time": "2020-06-14T17:33:36.350017Z",
     "start_time": "2020-06-14T17:33:36.345017Z"
    }
   },
   "outputs": [],
   "source": [
    "from nltk.stem import WordNetLemmatizer"
   ]
  },
  {
   "cell_type": "code",
   "execution_count": 15,
   "metadata": {
    "ExecuteTime": {
     "end_time": "2020-06-14T17:33:58.068649Z",
     "start_time": "2020-06-14T17:33:58.060655Z"
    }
   },
   "outputs": [],
   "source": [
    "sentences = nltk.sent_tokenize(story)\n",
    "lemmatizer = WordNetLemmatizer()"
   ]
  },
  {
   "cell_type": "code",
   "execution_count": 16,
   "metadata": {
    "ExecuteTime": {
     "end_time": "2020-06-14T17:34:07.349929Z",
     "start_time": "2020-06-14T17:34:04.927154Z"
    }
   },
   "outputs": [],
   "source": [
    "for i in range(len(sentences)):\n",
    "    word_token = nltk.word_tokenize(sentences[i])\n",
    "    words = [lemmatizer.lemmatize(word) for word in word_token]\n",
    "    sentences[i] = ' '.join(words)"
   ]
  },
  {
   "cell_type": "code",
   "execution_count": 17,
   "metadata": {
    "ExecuteTime": {
     "end_time": "2020-06-14T17:34:09.832843Z",
     "start_time": "2020-06-14T17:34:09.819850Z"
    }
   },
   "outputs": [
    {
     "data": {
      "text/plain": [
       "['A gentleman wa walking through an elephant camp , and he spotted that the elephant weren ’ t being kept in cage or held by the use of chain .',\n",
       " 'All that wa holding them back from escaping the camp , wa a small piece of rope tied to one of their leg .',\n",
       " 'As the man gazed upon the elephant , he wa completely confused a to why the elephant didn ’ t just use their strength to break the rope and escape the camp .',\n",
       " 'They could easily have done so , but instead , they didn ’ t try to at all .',\n",
       " 'Curious and wanting to know the answer , he asked a trainer nearby why the elephant were just standing there and never tried to escape .',\n",
       " 'The trainer replied ; “ when they are very young and much smaller we use the same size rope to tie them and , at that age , it ’ s enough to hold them .',\n",
       " 'As they grow up , they are conditioned to believe they can not break away .',\n",
       " 'They believe the rope can still hold them , so they never try to break free. ” The only reason that the elephant weren ’ t breaking free and escaping from the camp wa that over time they adopted the belief that it just wasn ’ t possible .']"
      ]
     },
     "execution_count": 17,
     "metadata": {},
     "output_type": "execute_result"
    }
   ],
   "source": [
    "sentences"
   ]
  },
  {
   "cell_type": "markdown",
   "metadata": {
    "ExecuteTime": {
     "end_time": "2020-06-14T17:34:40.010696Z",
     "start_time": "2020-06-14T17:34:39.992713Z"
    }
   },
   "source": [
    "## StopWords Removal"
   ]
  },
  {
   "cell_type": "code",
   "execution_count": 19,
   "metadata": {
    "ExecuteTime": {
     "end_time": "2020-06-14T17:34:52.676203Z",
     "start_time": "2020-06-14T17:34:52.666207Z"
    }
   },
   "outputs": [],
   "source": [
    "from nltk.corpus import stopwords"
   ]
  },
  {
   "cell_type": "code",
   "execution_count": 20,
   "metadata": {
    "ExecuteTime": {
     "end_time": "2020-06-14T17:34:58.236169Z",
     "start_time": "2020-06-14T17:34:58.019131Z"
    }
   },
   "outputs": [],
   "source": [
    "for i in range(len(sentences)):\n",
    "    word_token = nltk.word_tokenize(sentences[i])\n",
    "    words = [word for word in word_token if word not in stopwords.words('english')]\n",
    "    sentences[i] = ' '.join(words)"
   ]
  },
  {
   "cell_type": "code",
   "execution_count": 21,
   "metadata": {
    "ExecuteTime": {
     "end_time": "2020-06-14T17:35:00.454839Z",
     "start_time": "2020-06-14T17:35:00.445825Z"
    }
   },
   "outputs": [
    {
     "data": {
      "text/plain": [
       "['A gentleman wa walking elephant camp , spotted elephant ’ kept cage held use chain .',\n",
       " 'All wa holding back escaping camp , wa small piece rope tied one leg .',\n",
       " 'As man gazed upon elephant , wa completely confused elephant ’ use strength break rope escape camp .',\n",
       " 'They could easily done , instead , ’ try .',\n",
       " 'Curious wanting know answer , asked trainer nearby elephant standing never tried escape .',\n",
       " 'The trainer replied ; “ young much smaller use size rope tie , age , ’ enough hold .',\n",
       " 'As grow , conditioned believe break away .',\n",
       " 'They believe rope still hold , never try break free . ” The reason elephant ’ breaking free escaping camp wa time adopted belief ’ possible .']"
      ]
     },
     "execution_count": 21,
     "metadata": {},
     "output_type": "execute_result"
    }
   ],
   "source": [
    "sentences"
   ]
  },
  {
   "cell_type": "markdown",
   "metadata": {},
   "source": [
    "## POS Tagging"
   ]
  },
  {
   "cell_type": "code",
   "execution_count": 22,
   "metadata": {
    "ExecuteTime": {
     "end_time": "2020-06-14T17:35:30.908615Z",
     "start_time": "2020-06-14T17:35:30.542204Z"
    }
   },
   "outputs": [],
   "source": [
    "words = nltk.word_tokenize(story)\n",
    "tagged_words = nltk.pos_tag(words)"
   ]
  },
  {
   "cell_type": "code",
   "execution_count": 23,
   "metadata": {
    "ExecuteTime": {
     "end_time": "2020-06-14T17:35:34.194647Z",
     "start_time": "2020-06-14T17:35:34.171640Z"
    }
   },
   "outputs": [
    {
     "data": {
      "text/plain": [
       "[('A', 'DT'),\n",
       " ('gentleman', 'NN'),\n",
       " ('was', 'VBD'),\n",
       " ('walking', 'VBG'),\n",
       " ('through', 'IN'),\n",
       " ('an', 'DT'),\n",
       " ('elephant', 'JJ'),\n",
       " ('camp', 'NN'),\n",
       " (',', ','),\n",
       " ('and', 'CC'),\n",
       " ('he', 'PRP'),\n",
       " ('spotted', 'VBD'),\n",
       " ('that', 'IN'),\n",
       " ('the', 'DT'),\n",
       " ('elephants', 'NNS'),\n",
       " ('weren', 'VBP'),\n",
       " ('’', 'JJ'),\n",
       " ('t', 'NN'),\n",
       " ('being', 'VBG'),\n",
       " ('kept', 'VBN'),\n",
       " ('in', 'IN'),\n",
       " ('cages', 'NNS'),\n",
       " ('or', 'CC'),\n",
       " ('held', 'VBN'),\n",
       " ('by', 'IN'),\n",
       " ('the', 'DT'),\n",
       " ('use', 'NN'),\n",
       " ('of', 'IN'),\n",
       " ('chains', 'NNS'),\n",
       " ('.', '.'),\n",
       " ('All', 'PDT'),\n",
       " ('that', 'DT'),\n",
       " ('was', 'VBD'),\n",
       " ('holding', 'VBG'),\n",
       " ('them', 'PRP'),\n",
       " ('back', 'RB'),\n",
       " ('from', 'IN'),\n",
       " ('escaping', 'VBG'),\n",
       " ('the', 'DT'),\n",
       " ('camp', 'NN'),\n",
       " (',', ','),\n",
       " ('was', 'VBD'),\n",
       " ('a', 'DT'),\n",
       " ('small', 'JJ'),\n",
       " ('piece', 'NN'),\n",
       " ('of', 'IN'),\n",
       " ('rope', 'NN'),\n",
       " ('tied', 'VBN'),\n",
       " ('to', 'TO'),\n",
       " ('one', 'CD'),\n",
       " ('of', 'IN'),\n",
       " ('their', 'PRP$'),\n",
       " ('legs', 'NNS'),\n",
       " ('.', '.'),\n",
       " ('As', 'IN'),\n",
       " ('the', 'DT'),\n",
       " ('man', 'NN'),\n",
       " ('gazed', 'VBN'),\n",
       " ('upon', 'IN'),\n",
       " ('the', 'DT'),\n",
       " ('elephants', 'NNS'),\n",
       " (',', ','),\n",
       " ('he', 'PRP'),\n",
       " ('was', 'VBD'),\n",
       " ('completely', 'RB'),\n",
       " ('confused', 'VBN'),\n",
       " ('as', 'IN'),\n",
       " ('to', 'TO'),\n",
       " ('why', 'WRB'),\n",
       " ('the', 'DT'),\n",
       " ('elephants', 'NNS'),\n",
       " ('didn', 'VBP'),\n",
       " ('’', 'JJ'),\n",
       " ('t', 'NN'),\n",
       " ('just', 'RB'),\n",
       " ('use', 'VB'),\n",
       " ('their', 'PRP$'),\n",
       " ('strength', 'NN'),\n",
       " ('to', 'TO'),\n",
       " ('break', 'VB'),\n",
       " ('the', 'DT'),\n",
       " ('rope', 'NN'),\n",
       " ('and', 'CC'),\n",
       " ('escape', 'VB'),\n",
       " ('the', 'DT'),\n",
       " ('camp', 'NN'),\n",
       " ('.', '.'),\n",
       " ('They', 'PRP'),\n",
       " ('could', 'MD'),\n",
       " ('easily', 'RB'),\n",
       " ('have', 'VB'),\n",
       " ('done', 'VBN'),\n",
       " ('so', 'RB'),\n",
       " (',', ','),\n",
       " ('but', 'CC'),\n",
       " ('instead', 'RB'),\n",
       " (',', ','),\n",
       " ('they', 'PRP'),\n",
       " ('didn', 'VBP'),\n",
       " ('’', 'JJ'),\n",
       " ('t', 'NN'),\n",
       " ('try', 'NN'),\n",
       " ('to', 'TO'),\n",
       " ('at', 'IN'),\n",
       " ('all', 'DT'),\n",
       " ('.', '.'),\n",
       " ('Curious', 'NNP'),\n",
       " ('and', 'CC'),\n",
       " ('wanting', 'VBG'),\n",
       " ('to', 'TO'),\n",
       " ('know', 'VB'),\n",
       " ('the', 'DT'),\n",
       " ('answer', 'NN'),\n",
       " (',', ','),\n",
       " ('he', 'PRP'),\n",
       " ('asked', 'VBD'),\n",
       " ('a', 'DT'),\n",
       " ('trainer', 'NN'),\n",
       " ('nearby', 'JJ'),\n",
       " ('why', 'WRB'),\n",
       " ('the', 'DT'),\n",
       " ('elephants', 'NNS'),\n",
       " ('were', 'VBD'),\n",
       " ('just', 'RB'),\n",
       " ('standing', 'VBG'),\n",
       " ('there', 'RB'),\n",
       " ('and', 'CC'),\n",
       " ('never', 'RB'),\n",
       " ('tried', 'VBN'),\n",
       " ('to', 'TO'),\n",
       " ('escape', 'VB'),\n",
       " ('.', '.'),\n",
       " ('The', 'DT'),\n",
       " ('trainer', 'NN'),\n",
       " ('replied', 'VBD'),\n",
       " (';', ':'),\n",
       " ('“', 'CC'),\n",
       " ('when', 'WRB'),\n",
       " ('they', 'PRP'),\n",
       " ('are', 'VBP'),\n",
       " ('very', 'RB'),\n",
       " ('young', 'JJ'),\n",
       " ('and', 'CC'),\n",
       " ('much', 'JJ'),\n",
       " ('smaller', 'JJR'),\n",
       " ('we', 'PRP'),\n",
       " ('use', 'VBP'),\n",
       " ('the', 'DT'),\n",
       " ('same', 'JJ'),\n",
       " ('size', 'NN'),\n",
       " ('rope', 'NN'),\n",
       " ('to', 'TO'),\n",
       " ('tie', 'VB'),\n",
       " ('them', 'PRP'),\n",
       " ('and', 'CC'),\n",
       " (',', ','),\n",
       " ('at', 'IN'),\n",
       " ('that', 'DT'),\n",
       " ('age', 'NN'),\n",
       " (',', ','),\n",
       " ('it', 'PRP'),\n",
       " ('’', 'VBZ'),\n",
       " ('s', 'JJ'),\n",
       " ('enough', 'RB'),\n",
       " ('to', 'TO'),\n",
       " ('hold', 'VB'),\n",
       " ('them', 'PRP'),\n",
       " ('.', '.'),\n",
       " ('As', 'IN'),\n",
       " ('they', 'PRP'),\n",
       " ('grow', 'VBP'),\n",
       " ('up', 'RP'),\n",
       " (',', ','),\n",
       " ('they', 'PRP'),\n",
       " ('are', 'VBP'),\n",
       " ('conditioned', 'VBN'),\n",
       " ('to', 'TO'),\n",
       " ('believe', 'VB'),\n",
       " ('they', 'PRP'),\n",
       " ('can', 'MD'),\n",
       " ('not', 'RB'),\n",
       " ('break', 'VB'),\n",
       " ('away', 'RP'),\n",
       " ('.', '.'),\n",
       " ('They', 'PRP'),\n",
       " ('believe', 'VBP'),\n",
       " ('the', 'DT'),\n",
       " ('rope', 'NN'),\n",
       " ('can', 'MD'),\n",
       " ('still', 'RB'),\n",
       " ('hold', 'VB'),\n",
       " ('them', 'PRP'),\n",
       " (',', ','),\n",
       " ('so', 'IN'),\n",
       " ('they', 'PRP'),\n",
       " ('never', 'RB'),\n",
       " ('try', 'VBP'),\n",
       " ('to', 'TO'),\n",
       " ('break', 'VB'),\n",
       " ('free.', 'JJ'),\n",
       " ('”', 'VB'),\n",
       " ('The', 'DT'),\n",
       " ('only', 'JJ'),\n",
       " ('reason', 'NN'),\n",
       " ('that', 'IN'),\n",
       " ('the', 'DT'),\n",
       " ('elephants', 'NNS'),\n",
       " ('weren', 'VBP'),\n",
       " ('’', 'JJ'),\n",
       " ('t', 'NN'),\n",
       " ('breaking', 'VBG'),\n",
       " ('free', 'JJ'),\n",
       " ('and', 'CC'),\n",
       " ('escaping', 'VBG'),\n",
       " ('from', 'IN'),\n",
       " ('the', 'DT'),\n",
       " ('camp', 'NN'),\n",
       " ('was', 'VBD'),\n",
       " ('that', 'IN'),\n",
       " ('over', 'IN'),\n",
       " ('time', 'NN'),\n",
       " ('they', 'PRP'),\n",
       " ('adopted', 'VBD'),\n",
       " ('the', 'DT'),\n",
       " ('belief', 'NN'),\n",
       " ('that', 'IN'),\n",
       " ('it', 'PRP'),\n",
       " ('just', 'RB'),\n",
       " ('wasn', 'VB'),\n",
       " ('’', 'NNP'),\n",
       " ('t', 'NN'),\n",
       " ('possible', 'JJ'),\n",
       " ('.', '.')]"
      ]
     },
     "execution_count": 23,
     "metadata": {},
     "output_type": "execute_result"
    }
   ],
   "source": [
    "tagged_words"
   ]
  },
  {
   "cell_type": "code",
   "execution_count": null,
   "metadata": {},
   "outputs": [],
   "source": []
  }
 ],
 "metadata": {
  "kernelspec": {
   "display_name": "Python 3",
   "language": "python",
   "name": "python3"
  },
  "language_info": {
   "codemirror_mode": {
    "name": "ipython",
    "version": 3
   },
   "file_extension": ".py",
   "mimetype": "text/x-python",
   "name": "python",
   "nbconvert_exporter": "python",
   "pygments_lexer": "ipython3",
   "version": "3.7.3"
  },
  "toc": {
   "base_numbering": 1,
   "nav_menu": {},
   "number_sections": true,
   "sideBar": true,
   "skip_h1_title": false,
   "title_cell": "Table of Contents",
   "title_sidebar": "Contents",
   "toc_cell": false,
   "toc_position": {},
   "toc_section_display": true,
   "toc_window_display": false
  }
 },
 "nbformat": 4,
 "nbformat_minor": 4
}
