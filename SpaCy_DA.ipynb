{
 "cells": [
  {
   "cell_type": "markdown",
   "metadata": {},
   "source": [
    "# spaCy"
   ]
  },
  {
   "cell_type": "markdown",
   "metadata": {},
   "source": [
    "## Getting Things Ready for spaCy"
   ]
  },
  {
   "cell_type": "code",
   "execution_count": null,
   "metadata": {},
   "outputs": [],
   "source": [
    "#Installing spaCy pacakge\n",
    "!pip install -U spacy\n",
    "pip install -U spacy-lookups-data"
   ]
  },
  {
   "cell_type": "code",
   "execution_count": 15,
   "metadata": {
    "ExecuteTime": {
     "end_time": "2020-06-21T08:49:45.562238Z",
     "start_time": "2020-06-21T08:49:45.542230Z"
    }
   },
   "outputs": [],
   "source": [
    "#importing spacy package\n",
    "import spacy"
   ]
  },
  {
   "cell_type": "code",
   "execution_count": 17,
   "metadata": {
    "ExecuteTime": {
     "end_time": "2020-06-21T08:50:24.542333Z",
     "start_time": "2020-06-21T08:50:24.478399Z"
    }
   },
   "outputs": [],
   "source": [
    "# Importing English multi-task CNN trained on OntoNotes.\n",
    "import en_core_web_sm"
   ]
  },
  {
   "cell_type": "code",
   "execution_count": 18,
   "metadata": {
    "ExecuteTime": {
     "end_time": "2020-06-21T08:50:36.523408Z",
     "start_time": "2020-06-21T08:50:29.401497Z"
    }
   },
   "outputs": [],
   "source": [
    "nlp = en_core_web_sm.load()  #loading the trained English data"
   ]
  },
  {
   "cell_type": "code",
   "execution_count": 19,
   "metadata": {
    "ExecuteTime": {
     "end_time": "2020-06-21T08:54:24.664945Z",
     "start_time": "2020-06-21T08:54:24.643958Z"
    }
   },
   "outputs": [
    {
     "data": {
      "text/plain": [
       "<spacy.lang.en.English at 0x1e2baf739e8>"
      ]
     },
     "execution_count": 19,
     "metadata": {},
     "output_type": "execute_result"
    }
   ],
   "source": [
    "nlp  # verifying whether data is loaded or not"
   ]
  },
  {
   "cell_type": "markdown",
   "metadata": {},
   "source": [
    "## Processing gettysburg Corpus\""
   ]
  },
  {
   "cell_type": "code",
   "execution_count": 50,
   "metadata": {
    "ExecuteTime": {
     "end_time": "2020-06-21T16:46:59.794097Z",
     "start_time": "2020-06-21T16:46:59.779111Z"
    }
   },
   "outputs": [],
   "source": [
    "para =\"\"\"\"Four score and seven years ago our fathers brought forth on this continent a new nation, conceived in Liberty,\n",
    " and dedicated to the proposition that all men are created equal.\n",
    "\"Now we are engaged in a great civil war, testing whether that nation or any \n",
    "nation so conceived and so dedicated, can long endure. We are met on a great battle-field of that \n",
    "war. We have come to dedicate a portion of that field, as a final resting place for those who here gave their \n",
    "lives that that nation might live. It is altogether fitting and proper that we should do this.\n",
    "\"But, in a larger sense, we can not dedicate—we can not consecrate—we can not hallow—this ground. \n",
    "The brave men, living and dead, who struggled here, have consecrated it, far above our poor power to add or detract. \n",
    "The world will little note, nor long remember what we say here, but it can never forget what they did here. \n",
    "It is for us the living, rather, to be dedicated here to the unfinished work which they who fought here have thus \n",
    "far so nobly advanced. It is rather for us to be here dedicated to the great task remaining before us—that from these honored dead we \n",
    "take increased devotion to that cause for which they gave the last full measure of devotion—that we here highly \n",
    "resolve that these dead shall not have died in vain—that this nation, under God, shall have a new birth of freedom—and that government of the people\n",
    ", by the people, for the people, shall not perish from the earth.”\"\"\""
   ]
  },
  {
   "cell_type": "code",
   "execution_count": 52,
   "metadata": {
    "ExecuteTime": {
     "end_time": "2020-06-21T16:47:09.322626Z",
     "start_time": "2020-06-21T16:47:09.221671Z"
    }
   },
   "outputs": [
    {
     "data": {
      "text/plain": [
       "\"Four score and seven years ago our fathers brought forth on this continent a new nation, conceived in Liberty,\n",
       " and dedicated to the proposition that all men are created equal.\n",
       "\"Now we are engaged in a great civil war, testing whether that nation or any \n",
       "nation so conceived and so dedicated, can long endure. We are met on a great battle-field of that \n",
       "war. We have come to dedicate a portion of that field, as a final resting place for those who here gave their \n",
       "lives that that nation might live. It is altogether fitting and proper that we should do this.\n",
       "\"But, in a larger sense, we can not dedicate—we can not consecrate—we can not hallow—this ground. \n",
       "The brave men, living and dead, who struggled here, have consecrated it, far above our poor power to add or detract. \n",
       "The world will little note, nor long remember what we say here, but it can never forget what they did here. \n",
       "It is for us the living, rather, to be dedicated here to the unfinished work which they who fought here have thus \n",
       "far so nobly advanced. It is rather for us to be here dedicated to the great task remaining before us—that from these honored dead we \n",
       "take increased devotion to that cause for which they gave the last full measure of devotion—that we here highly \n",
       "resolve that these dead shall not have died in vain—that this nation, under God, shall have a new birth of freedom—and that government of the people\n",
       ", by the people, for the people, shall not perish from the earth.”"
      ]
     },
     "execution_count": 52,
     "metadata": {},
     "output_type": "execute_result"
    }
   ],
   "source": [
    "fp = nlp(para)\n",
    "fp"
   ]
  },
  {
   "cell_type": "code",
   "execution_count": 56,
   "metadata": {
    "ExecuteTime": {
     "end_time": "2020-06-21T16:53:05.453722Z",
     "start_time": "2020-06-21T16:53:05.447728Z"
    }
   },
   "outputs": [],
   "source": [
    "# getting list of sentences from paragraph\n",
    "sentences = list(fp.sents)"
   ]
  },
  {
   "cell_type": "code",
   "execution_count": 57,
   "metadata": {
    "ExecuteTime": {
     "end_time": "2020-06-21T16:53:13.460402Z",
     "start_time": "2020-06-21T16:53:13.441413Z"
    }
   },
   "outputs": [
    {
     "name": "stdout",
     "output_type": "stream",
     "text": [
      "\"Four score and seven years ago our fathers brought forth on this continent a new nation, conceived in Liberty,\n",
      " and dedicated to the proposition that all men are created equal.\n",
      "\n",
      "\"Now we are engaged in a great civil war, testing whether that nation or any \n",
      "nation so conceived and so dedicated, can long endure.\n",
      "We are met on a great battle-field of that \n",
      "war.\n",
      "We have come to dedicate a portion of that field, as a final resting place for those who here gave their \n",
      "lives that that nation might live.\n",
      "It is altogether fitting and proper that we should do this.\n",
      "\n",
      "\"But, in a larger sense, we can not dedicate—we can not consecrate—we can not hallow—this ground. \n",
      "\n",
      "The brave men, living and dead, who struggled here, have consecrated it, far above our poor power to add or detract. \n",
      "\n",
      "The world will little note, nor long remember what we say here, but it can never forget what they did here. \n",
      "\n",
      "It is for us the living, rather, to be dedicated here to the unfinished work which they who fought here have thus \n",
      "far so nobly advanced.\n",
      "It is rather for us to be here dedicated to the great task remaining before us—that from these honored dead we \n",
      "take increased devotion to that cause for which they gave the last full measure of devotion—that we here highly \n",
      "resolve that these dead shall not have died in vain—that this nation, under God, shall have a new birth of freedom—and that government of the people\n",
      ", by the people, for the people, shall not perish from the earth.”\n"
     ]
    }
   ],
   "source": [
    "for sentence in sentences:\n",
    "    print (sentence)"
   ]
  },
  {
   "cell_type": "markdown",
   "metadata": {
    "ExecuteTime": {
     "end_time": "2020-06-21T16:54:58.929936Z",
     "start_time": "2020-06-21T16:54:58.912949Z"
    }
   },
   "source": [
    "## Tokenization in SpaCy"
   ]
  },
  {
   "cell_type": "code",
   "execution_count": 69,
   "metadata": {
    "ExecuteTime": {
     "end_time": "2020-06-21T17:00:12.314565Z",
     "start_time": "2020-06-21T17:00:12.267571Z"
    }
   },
   "outputs": [
    {
     "name": "stdout",
     "output_type": "stream",
     "text": [
      "\" 0 Four 1 score 6 and 12 seven 16 years 22 ago 28 our 32 fathers 36 brought 44 forth 52 on 58 this 61 continent 66 a 76 new 78 nation 82 , 88 conceived 90 in 100 Liberty 103 , 110 \n",
      "  111 and 113 dedicated 117 to 127 the 130 proposition 134 that 146 all 151 men 155 are 159 created 163 equal 171 . 176 \n",
      " 177 \" 178 Now 179 we 183 are 186 engaged 190 in 198 a 201 great 203 civil 209 war 215 , 218 testing 220 whether 228 that 236 nation 241 or 248 any 251 \n",
      " 255 nation 256 so 263 conceived 266 and 276 so 280 dedicated 283 , 292 can 294 long 298 endure 303 . 309 We 311 are 314 met 318 on 322 a 325 great 327 battle 333 - 339 field 340 of 346 that 349 \n",
      " 354 war 355 . 358 We 360 have 363 come 368 to 373 dedicate 376 a 385 portion 387 of 395 that 398 field 403 , 408 as 410 a 413 final 415 resting 421 place 429 for 435 those 439 who 445 here 449 gave 454 their 459 \n",
      " 465 lives 466 that 472 that 477 nation 482 might 489 live 495 . 499 It 501 is 504 altogether 507 fitting 518 and 526 proper 530 that 537 we 542 should 545 do 552 this 555 . 559 \n",
      " 560 \" 561 But 562 , 565 in 567 a 570 larger 572 sense 579 , 584 we 586 can 589 not 593 dedicate 597 — 605 we 606 can 609 not 613 consecrate 617 — 627 we 628 can 631 not 635 hallow 639 — 645 this 646 ground 651 . 657 \n",
      " 659 The 660 brave 664 men 670 , 673 living 675 and 682 dead 686 , 690 who 692 struggled 696 here 706 , 710 have 712 consecrated 717 it 729 , 731 far 733 above 737 our 743 poor 747 power 752 to 758 add 761 or 765 detract 768 . 775 \n",
      " 777 The 778 world 782 will 788 little 793 note 800 , 804 nor 806 long 810 remember 815 what 824 we 829 say 832 here 836 , 840 but 842 it 846 can 849 never 853 forget 859 what 866 they 871 did 876 here 880 . 884 \n",
      " 886 It 887 is 890 for 893 us 897 the 900 living 904 , 910 rather 912 , 918 to 920 be 923 dedicated 926 here 936 to 941 the 944 unfinished 948 work 959 which 964 they 970 who 975 fought 979 here 986 have 991 thus 996 \n",
      " 1001 far 1002 so 1006 nobly 1009 advanced 1015 . 1023 It 1025 is 1028 rather 1031 for 1038 us 1042 to 1045 be 1048 here 1051 dedicated 1056 to 1066 the 1069 great 1073 task 1079 remaining 1084 before 1094 us 1101 — 1103 that 1104 from 1109 these 1114 honored 1120 dead 1128 we 1133 \n",
      " 1136 take 1137 increased 1142 devotion 1152 to 1161 that 1164 cause 1169 for 1175 which 1179 they 1185 gave 1190 the 1195 last 1199 full 1204 measure 1209 of 1217 devotion 1220 — 1228 that 1229 we 1234 here 1237 highly 1242 \n",
      " 1249 resolve 1250 that 1258 these 1263 dead 1269 shall 1274 not 1280 have 1284 died 1289 in 1294 vain 1297 — 1301 that 1302 this 1307 nation 1312 , 1318 under 1320 God 1326 , 1329 shall 1331 have 1337 a 1342 new 1344 birth 1348 of 1354 freedom 1357 — 1364 and 1365 that 1369 government 1374 of 1385 the 1388 people 1392 \n",
      " 1398 , 1399 by 1401 the 1404 people 1408 , 1414 for 1416 the 1420 people 1424 , 1430 shall 1432 not 1438 perish 1442 from 1449 the 1454 earth 1458 . 1463 ” 1464 "
     ]
    }
   ],
   "source": [
    "for token in fp:\n",
    "    print (token, token.idx, end=\" \")"
   ]
  },
  {
   "cell_type": "markdown",
   "metadata": {},
   "source": [
    "## Stopwords Removal in SpaCy"
   ]
  },
  {
   "cell_type": "code",
   "execution_count": 61,
   "metadata": {
    "ExecuteTime": {
     "end_time": "2020-06-21T16:56:25.379424Z",
     "start_time": "2020-06-21T16:56:25.366430Z"
    }
   },
   "outputs": [],
   "source": [
    "spacy_stopwords = spacy.lang.en.stop_words.STOP_WORDS"
   ]
  },
  {
   "cell_type": "code",
   "execution_count": 68,
   "metadata": {
    "ExecuteTime": {
     "end_time": "2020-06-21T16:59:57.213032Z",
     "start_time": "2020-06-21T16:59:57.197027Z"
    }
   },
   "outputs": [
    {
     "name": "stdout",
     "output_type": "stream",
     "text": [
      "{'re', 'were', 'either', 'an', 'yours', 'so', '‘s', 'has', 'towards', 'other', 'keep', 'which', 'should', 'nothing', 'of', 'herself', 'hereby', 'please', 'this', 'out', 'during', 'across', 'anywhere', 'would', 'you', 'whereas', 'call', 'yourselves', 'her', 'its', 'something', 'even', 'whole', 'beyond', \"'d\", 'to', 'we', 'against', 'wherever', 'five', 'though', 'the', 'but', 'does', 'both', 'again', 'namely', 'ours', 'never', 'why', 'behind', 'been', 'moreover', 'only', 'i', \"n't\", 'down', 'ca', 'put', 'one', 'if', 'nine', 'seem', 'hence', \"'ll\", 'several', 'serious', 'above', \"'ve\", 'may', '‘ll', 'forty', 'whose', 'become', 'really', 'no', 'sometimes', 'anything', 'on', 'thereupon', 'always', \"'m\", '‘ve', 'another', 'anyhow', 'under', 'did', 'than', 'over', 'our', 'thence', 'us', 'about', 'latterly', 'else', 'using', 'sometime', 'everyone', 'unless', 'n‘t', 'them', 'too', 'very', 'yet', 'quite', 'she', 'whereafter', \"'re\", 'anyway', 'whereupon', 'alone', 'are', 'except', 'being', 'that', 'made', 'few', 'thus', 'whither', \"'s\", 'below', 'throughout', 'thereby', 'give', 'also', 'by', 'these', 'at', 'top', 'am', 'go', 'him', 'part', 'ourselves', 'seems', 'whenever', 'here', 'yourself', 'many', 'they', 'was', 'since', 'doing', 'what', 'have', 'is', 'latter', '’ll', 'everywhere', 'show', '‘d', 'others', 'thru', 'such', 'rather', 'not', 'eight', 'via', 'afterwards', 'becomes', 'between', 'any', 'front', 'sixty', 'those', 'before', 'still', 'every', 'as', 'seeming', 'further', 'take', 'cannot', 'among', 'otherwise', 'amongst', 'itself', 'n’t', 'neither', 'someone', 'because', 'your', 'whereby', 'twelve', 'often', 'whatever', 'nobody', 'through', 'be', 'when', 'each', 'all', '’ve', 'most', 'wherein', 'elsewhere', 'anyone', '‘m', 'empty', 'name', '‘re', 'various', 'who', 'six', 'or', 'up', 'whom', 'none', 'perhaps', 'two', 'with', 'indeed', 'back', 'next', 'former', 'along', 'once', 'somehow', 'noone', 'just', 'himself', 'side', 'had', 'from', 'then', 'everything', 'he', 'whoever', 'seemed', 'same', 'onto', 'might', 'almost', 'myself', 'a', 'there', 'whence', 'due', 'mostly', 'now', 'toward', '’s', 'done', 'besides', 'into', 'less', 'therein', 'became', 'nor', 'whether', 'fifteen', 'together', 'will', 'used', 'beforehand', 'nevertheless', 'nowhere', 'per', 'somewhere', 'say', 'fifty', 'least', 'must', 'some', 'meanwhile', 'herein', 'without', 'therefore', 'hereafter', 'thereafter', 'how', 'me', 'could', '’re', 'however', 'after', 'hundred', 'make', 'themselves', 'enough', 'off', '’d', 'ten', 'hers', 'while', 'see', 'around', 'within', 'in', '’m', 'formerly', 'hereupon', 'ever', 'until', 'can', 'my', 'more', 'amount', 'well', 'eleven', 'full', 'already', 'move', 'mine', 'twenty', 'own', 'his', 'becoming', 'where', 'regarding', 'last', 'upon', 'beside', 'for', 'much', 'their', 'first', 'do', 'get', 'and', 'three', 'four', 'bottom', 'third', 'it', 'although'} "
     ]
    }
   ],
   "source": [
    "# List of stop words in spaCy\n",
    "print(spacy_stopwords, end=\" \")"
   ]
  },
  {
   "cell_type": "code",
   "execution_count": 71,
   "metadata": {
    "ExecuteTime": {
     "end_time": "2020-06-21T17:07:14.132236Z",
     "start_time": "2020-06-21T17:07:14.112249Z"
    }
   },
   "outputs": [
    {
     "name": "stdout",
     "output_type": "stream",
     "text": [
      "\" score seven years ago fathers brought forth continent new nation , conceived Liberty , \n",
      "  dedicated proposition men created equal . \n",
      " \" engaged great civil war , testing nation \n",
      " nation conceived dedicated , long endure . met great battle - field \n",
      " war . come dedicate portion field , final resting place gave \n",
      " lives nation live . altogether fitting proper . \n",
      " \" , larger sense , dedicate — consecrate — hallow — ground . \n",
      " brave men , living dead , struggled , consecrated , far poor power add detract . \n",
      " world little note , long remember , forget . \n",
      " living , , dedicated unfinished work fought \n",
      " far nobly advanced . dedicated great task remaining — honored dead \n",
      " increased devotion cause gave measure devotion — highly \n",
      " resolve dead shall died vain — nation , God , shall new birth freedom — government people \n",
      " , people , people , shall perish earth . ” "
     ]
    }
   ],
   "source": [
    "# Removing stop words\n",
    "for token in fp:\n",
    "    if not token.is_stop:\n",
    "        print (token, end=\" \")"
   ]
  },
  {
   "cell_type": "markdown",
   "metadata": {
    "ExecuteTime": {
     "end_time": "2020-06-21T17:07:39.212152Z",
     "start_time": "2020-06-21T17:07:39.198164Z"
    }
   },
   "source": [
    "## Lemmatization in spaCy"
   ]
  },
  {
   "cell_type": "code",
   "execution_count": 77,
   "metadata": {
    "ExecuteTime": {
     "end_time": "2020-06-21T17:09:15.763750Z",
     "start_time": "2020-06-21T17:09:15.693791Z"
    }
   },
   "outputs": [
    {
     "name": "stdout",
     "output_type": "stream",
     "text": [
      "\" \" | Four four | score score | and and | seven seven | years year | ago ago | our -PRON- | fathers father | brought bring | forth forth | on on | this this | continent continent | a a | new new | nation nation | , , | conceived conceive | in in | Liberty Liberty | , , | \n",
      "  \n",
      "  | and and | dedicated dedicate | to to | the the | proposition proposition | that that | all all | men man | are be | created create | equal equal | . . | \n",
      " \n",
      " | \" \" | Now now | we -PRON- | are be | engaged engage | in in | a a | great great | civil civil | war war | , , | testing test | whether whether | that that | nation nation | or or | any any | \n",
      " \n",
      " | nation nation | so so | conceived conceive | and and | so so | dedicated dedicated | , , | can can | long long | endure endure | . . | We -PRON- | are be | met meet | on on | a a | great great | battle battle | - - | field field | of of | that that | \n",
      " \n",
      " | war war | . . | We -PRON- | have have | come come | to to | dedicate dedicate | a a | portion portion | of of | that that | field field | , , | as as | a a | final final | resting resting | place place | for for | those those | who who | here here | gave give | their -PRON- | \n",
      " \n",
      " | lives life | that that | that that | nation nation | might may | live live | . . | It -PRON- | is be | altogether altogether | fitting fitting | and and | proper proper | that that | we -PRON- | should should | do do | this this | . . | \n",
      " \n",
      " | \" \" | But but | , , | in in | a a | larger large | sense sense | , , | we -PRON- | can can | not not | dedicate dedicate | — — | we -PRON- | can can | not not | consecrate consecrate | — — | we -PRON- | can can | not not | hallow hallow | — — | this this | ground ground | . . | \n",
      " \n",
      " | The the | brave brave | men man | , , | living living | and and | dead dead | , , | who who | struggled struggle | here here | , , | have have | consecrated consecrate | it -PRON- | , , | far far | above above | our -PRON- | poor poor | power power | to to | add add | or or | detract detract | . . | \n",
      " \n",
      " | The the | world world | will will | little little | note note | , , | nor nor | long long | remember remember | what what | we -PRON- | say say | here here | , , | but but | it -PRON- | can can | never never | forget forget | what what | they -PRON- | did do | here here | . . | \n",
      " \n",
      " | It -PRON- | is be | for for | us -PRON- | the the | living living | , , | rather rather | , , | to to | be be | dedicated dedicate | here here | to to | the the | unfinished unfinished | work work | which which | they -PRON- | who who | fought fight | here here | have have | thus thus | \n",
      " \n",
      " | far far | so so | nobly nobly | advanced advanced | . . | It -PRON- | is be | rather rather | for for | us -PRON- | to to | be be | here here | dedicated dedicate | to to | the the | great great | task task | remaining remain | before before | us -PRON- | — — | that that | from from | these these | honored honor | dead dead | we -PRON- | \n",
      " \n",
      " | take take | increased increase | devotion devotion | to to | that that | cause cause | for for | which which | they -PRON- | gave give | the the | last last | full full | measure measure | of of | devotion devotion | — — | that that | we -PRON- | here here | highly highly | \n",
      " \n",
      " | resolve resolve | that that | these these | dead dead | shall shall | not not | have have | died die | in in | vain vain | — — | that that | this this | nation nation | , , | under under | God God | , , | shall shall | have have | a a | new new | birth birth | of of | freedom freedom | — — | and and | that that | government government | of of | the the | people people | \n",
      " \n",
      " | , , | by by | the the | people people | , , | for for | the the | people people | , , | shall shall | not not | perish perish | from from | the the | earth earth | . . | ” \" | "
     ]
    }
   ],
   "source": [
    "for token in fp:\n",
    "    print (token, token.lemma_, end=\" | \")"
   ]
  },
  {
   "cell_type": "code",
   "execution_count": null,
   "metadata": {},
   "outputs": [],
   "source": []
  }
 ],
 "metadata": {
  "kernelspec": {
   "display_name": "Python 3",
   "language": "python",
   "name": "python3"
  },
  "language_info": {
   "codemirror_mode": {
    "name": "ipython",
    "version": 3
   },
   "file_extension": ".py",
   "mimetype": "text/x-python",
   "name": "python",
   "nbconvert_exporter": "python",
   "pygments_lexer": "ipython3",
   "version": "3.7.3"
  },
  "toc": {
   "base_numbering": 1,
   "nav_menu": {},
   "number_sections": true,
   "sideBar": true,
   "skip_h1_title": false,
   "title_cell": "Table of Contents",
   "title_sidebar": "Contents",
   "toc_cell": false,
   "toc_position": {},
   "toc_section_display": true,
   "toc_window_display": false
  }
 },
 "nbformat": 4,
 "nbformat_minor": 4
}
